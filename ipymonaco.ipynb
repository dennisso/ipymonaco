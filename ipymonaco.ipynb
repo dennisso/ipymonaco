{
 "cells": [
  {
   "cell_type": "markdown",
   "metadata": {},
   "source": [
    "ipymonaco\n",
    "=========\n",
    "\n",
    "This Jupyter notebook renders Microsoft's Monaco text editor as a ipywidget widget.\n",
    "\n"
   ]
  },
  {
   "cell_type": "markdown",
   "metadata": {},
   "source": [
    "## Render Microsoft Monaco as a Jupyter ipywidget\n",
    "Before you can run the following cell, run the prior installation steps and **refresh this page with the browser's cache disabled**."
   ]
  },
  {
   "cell_type": "code",
   "execution_count": null,
   "metadata": {
    "_cell_guid": "79c7e3d0-c299-4dcb-8224-4455121ee9b0",
    "_uuid": "d629ff2d2480ee46fbb7e2d37f6b5fab8052498a"
   },
   "outputs": [],
   "source": [
    "from ipymonaco import *\n",
    "hello = Monaco(value=\"SELECT * FROM \\\"table\\\";\", theme=\"vs\", language=\"sql\", readOnly=False)\n",
    "hello"
   ]
  }
 ],
 "metadata": {
  "kernelspec": {
   "display_name": "Python 3",
   "language": "python",
   "name": "python3"
  },
  "language_info": {
   "codemirror_mode": {
    "name": "ipython",
    "version": 3
   },
   "file_extension": ".py",
   "mimetype": "text/x-python",
   "name": "python",
   "nbconvert_exporter": "python",
   "pygments_lexer": "ipython3",
   "version": "3.7.6"
  }
 },
 "nbformat": 4,
 "nbformat_minor": 4
}